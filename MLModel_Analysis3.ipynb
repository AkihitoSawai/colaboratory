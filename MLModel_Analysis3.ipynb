{
  "nbformat": 4,
  "nbformat_minor": 0,
  "metadata": {
    "colab": {
      "name": "MLModel_Analysis3.ipynb",
      "provenance": [],
      "collapsed_sections": [],
      "include_colab_link": true
    },
    "kernelspec": {
      "name": "python3",
      "display_name": "Python 3"
    },
    "accelerator": "GPU"
  },
  "cells": [
    {
      "cell_type": "markdown",
      "metadata": {
        "id": "view-in-github",
        "colab_type": "text"
      },
      "source": [
        "<a href=\"https://colab.research.google.com/github/AkihitoSawai/colaboratory/blob/master/MLModel_Analysis3.ipynb\" target=\"_parent\"><img src=\"https://colab.research.google.com/assets/colab-badge.svg\" alt=\"Open In Colab\"/></a>"
      ]
    },
    {
      "cell_type": "markdown",
      "metadata": {
        "id": "YNkdCBVNq1xp",
        "colab_type": "text"
      },
      "source": [
        "# Google Driveとの連携"
      ]
    },
    {
      "cell_type": "code",
      "metadata": {
        "id": "T27aOqW1q6OG",
        "colab_type": "code",
        "outputId": "664d3070-0a01-4af4-f68b-69775303d680",
        "colab": {
          "base_uri": "https://localhost:8080/",
          "height": 128
        }
      },
      "source": [
        "from google.colab import drive\n",
        "drive.mount('/content/drive')"
      ],
      "execution_count": 0,
      "outputs": [
        {
          "output_type": "stream",
          "text": [
            "Go to this URL in a browser: https://accounts.google.com/o/oauth2/auth?client_id=947318989803-6bn6qk8qdgf4n4g3pfee6491hc0brc4i.apps.googleusercontent.com&redirect_uri=urn%3Aietf%3Awg%3Aoauth%3A2.0%3Aoob&scope=email%20https%3A%2F%2Fwww.googleapis.com%2Fauth%2Fdocs.test%20https%3A%2F%2Fwww.googleapis.com%2Fauth%2Fdrive%20https%3A%2F%2Fwww.googleapis.com%2Fauth%2Fdrive.photos.readonly%20https%3A%2F%2Fwww.googleapis.com%2Fauth%2Fpeopleapi.readonly&response_type=code\n",
            "\n",
            "Enter your authorization code:\n",
            "··········\n",
            "Mounted at /content/drive\n"
          ],
          "name": "stdout"
        }
      ]
    },
    {
      "cell_type": "markdown",
      "metadata": {
        "id": "L69Cdz-wsyo-",
        "colab_type": "text"
      },
      "source": [
        "# 各種import"
      ]
    },
    {
      "cell_type": "code",
      "metadata": {
        "id": "Pxns0O2rq9st",
        "colab_type": "code",
        "outputId": "6060cee5-853b-440f-81e4-b416f312f7e2",
        "colab": {
          "base_uri": "https://localhost:8080/",
          "height": 35
        }
      },
      "source": [
        "import numpy as np\n",
        "import pandas as pd\n",
        "import matplotlib.pyplot as plt\n",
        "import os\n",
        "from random import shuffle\n",
        "from scipy import misc\n",
        "from sklearn.model_selection import train_test_split\n",
        "import tensorflow as tf\n",
        "from keras.models import Sequential\n",
        "from keras.models import Model\n",
        "from keras.applications.resnet50 import ResNet50\n",
        "from keras.applications.vgg16 import VGG16\n",
        "from keras.applications.vgg19 import VGG19\n",
        "from keras.applications.xception import Xception\n",
        "from keras.layers import Conv2D, MaxPooling2D, GlobalAveragePooling2D, BatchNormalization\n",
        "from keras.layers import Activation, Dropout, Flatten, Dense, Input\n",
        "from keras.utils.np_utils import to_categorical\n",
        "from keras.callbacks import Callback\n",
        "from keras.initializers import TruncatedNormal\n",
        "from PIL import Image\n",
        "from statistics import mean"
      ],
      "execution_count": 0,
      "outputs": [
        {
          "output_type": "stream",
          "text": [
            "Using TensorFlow backend.\n"
          ],
          "name": "stderr"
        }
      ]
    },
    {
      "cell_type": "markdown",
      "metadata": {
        "id": "6jieCD9atmCl",
        "colab_type": "text"
      },
      "source": [
        "# 補助関数"
      ]
    },
    {
      "cell_type": "code",
      "metadata": {
        "id": "WkCGz9QFtqk4",
        "colab_type": "code",
        "colab": {}
      },
      "source": [
        "#損失関数のhistory(y軸：mae)\n",
        "def plot_history_mae(history, title):\n",
        "  plt.figure()\n",
        "  plt.title(title)\n",
        "  plt.xlabel('Epoch')\n",
        "  plt.ylabel('Mean Abs Error ')\n",
        "  plt.plot(history.epoch, np.array(history.history['mean_absolute_error']),\n",
        "           label='Train Loss')\n",
        "  plt.plot(history.epoch, np.array(history.history['val_mean_absolute_error']),\n",
        "           label = 'Val loss')\n",
        "  plt.legend()\n",
        "  plt.ylim([0,12])\n",
        "\n",
        "\n",
        "#損失関数のhistory(y軸：mse)\n",
        "def plot_history_mse(history, title):\n",
        "  plt.figure()\n",
        "  plt.title(title)\n",
        "  plt.xlabel('Epoch')\n",
        "  plt.ylabel('Mean Square Error ')\n",
        "  plt.plot(history.epoch, np.array(history.history['mean_squared_error']),\n",
        "           label='Train Loss')\n",
        "  plt.plot(history.epoch, np.array(history.history['val_mean_squared_error']),\n",
        "           label = 'Val loss')\n",
        "  plt.legend()\n",
        "  plt.ylim([0,12])\n",
        "\n",
        "#epoch完了ごとに#を出力(progress)\n",
        "class PrintSharp(Callback):\n",
        "  def on_epoch_end(self,epoch,logs):\n",
        "    if epoch % 100 == 0: print('')\n",
        "    print('#', end='')\n",
        "\n",
        "#データロード関数。\n",
        "def Data_load(UTKFacePass:str):\n",
        "    os.chdir(UTKFacePass)\n",
        "    X_train  = np.load(\"X_5000_noAsian.npy\", allow_pickle = True)\n",
        "    Y_train  = np.load(\"Y_5000_noAsian.npy\", allow_pickle = True)\n",
        "    X_test  = np.load(\"X_1000_Asian.npy\", allow_pickle = True)\n",
        "    Y_test  = np.load(\"Y_1000_Asian.npy\", allow_pickle = True)\n",
        "    \n",
        "    return X_train, Y_train, X_test, Y_test"
      ],
      "execution_count": 0,
      "outputs": []
    },
    {
      "cell_type": "markdown",
      "metadata": {
        "id": "3AkvQPRst5YS",
        "colab_type": "text"
      },
      "source": [
        "# 学習実行関数"
      ]
    },
    {
      "cell_type": "code",
      "metadata": {
        "id": "c7APZmlEuDhY",
        "colab_type": "code",
        "colab": {}
      },
      "source": [
        "#モデル学習の実行関数。\n",
        "def model_fit(model,          #学習モデル\n",
        "              model_name:str, #学習モデルの名前(学習曲線図の題名で使う。)\n",
        "              epochs:int,     #エポック数\n",
        "              batch_size:int, #バッチサイズ\n",
        "              X_train,        #Trainning Feature(学習用の画像)\n",
        "              Y_train,        #Trainning Target(学習用の年齢ラベル)\n",
        "              X_test,         #Test Feature(評価用の画像)\n",
        "              Y_test,         #Test Target(評価用の年齢)\n",
        "              Loss:str,       #学習に用いる損失関数\n",
        "              optimizer:str   #最適化関数\n",
        "             ):\n",
        "  \n",
        "    #コンパイル\n",
        "    model.compile(loss=Loss,\n",
        "                 optimizer=optimizer,     \n",
        "                 metrics=['mae','mse']\n",
        "                 )\n",
        "    \n",
        "    #モデル学習実行\n",
        "    hist = model.fit(X_train,\n",
        "                        Y_train,\n",
        "                        epochs=epochs,\n",
        "                        batch_size=batch_size,\n",
        "                        validation_data = (X_test, Y_test),      #検証に使われるdata\n",
        "                        verbose=0,                               #ログ出力しない\n",
        "                        callbacks=[PrintSharp()]\n",
        "                       )\n",
        "    \n",
        "    #学習曲線(y軸はmae)\n",
        "    plot_history_mae(hist, model_name)\n",
        "    #TestDataの評価\n",
        "    [Test_loss, Test_mae, Test_mse] = model.evaluate(X_test, Y_test, verbose=0)\n",
        "    #TrainDataの平均mae(40~100epoch)\n",
        "    Train_mae_mean = mean(hist.history[\"mean_absolute_error\"][40:100])\n",
        "    #TestDataの平均mae(40~100epoch)\n",
        "    Test_mae_mean = mean(hist.history['val_mean_absolute_error'][40:100])\n",
        "    \n",
        "    \n",
        "    #train,test dataのmae, mseを返す。\n",
        "    return Test_mae, Test_mse, Train_mae_mean, Test_mae_mean"
      ],
      "execution_count": 0,
      "outputs": []
    },
    {
      "cell_type": "markdown",
      "metadata": {
        "id": "ucqoTQNbujMm",
        "colab_type": "text"
      },
      "source": [
        "# 学習モデル"
      ]
    },
    {
      "cell_type": "code",
      "metadata": {
        "id": "yfAQqrkUukqS",
        "colab_type": "code",
        "colab": {}
      },
      "source": [
        "#学習モデル(転移学習モデルと結合層を固めたもの。)\n",
        "def ML_model(Transfer_model):     \n",
        "\n",
        "    #結合層\n",
        "    flatten_model = Sequential()\n",
        "    flatten_model.add(\n",
        "        Flatten(\n",
        "            input_shape = Transfer_model.output_shape[1:]\n",
        "        ))\n",
        "    flatten_model.add(\n",
        "        Dense(256,\n",
        "              activation = \"relu\"\n",
        "             ))\n",
        "    flatten_model.add(Dropout(0.25))\n",
        "    flatten_model.add(\n",
        "        Dense(1,\n",
        "              activation = 'linear',\n",
        "             ))\n",
        "    \n",
        "    # ResNet50と結合層を結合してモデルを作成\n",
        "    model = Model(\n",
        "        input = Transfer_model.input,           #転移学習モデル\n",
        "        output = flatten_model(Transfer_model.output) #結合層\n",
        "    )\n",
        "    \n",
        "    model.summary()\n",
        "    \n",
        "    return model"
      ],
      "execution_count": 0,
      "outputs": []
    },
    {
      "cell_type": "markdown",
      "metadata": {
        "id": "6j4EtiEMuq6X",
        "colab_type": "text"
      },
      "source": [
        "# 学習実行"
      ]
    },
    {
      "cell_type": "code",
      "metadata": {
        "id": "VoG9JTjbuwdL",
        "colab_type": "code",
        "outputId": "9e5dde55-b6bc-4573-e0e0-d299064eb9c8",
        "colab": {
          "base_uri": "https://localhost:8080/",
          "height": 1000
        }
      },
      "source": [
        "%%time\n",
        "\n",
        "#Trainデータ、Testデータのローディング。\n",
        "UTKFacePass = '/content/drive/My Drive/UTKface_AgePrediction'\n",
        "X_train, Y_train, X_test, Y_test = Data_load(UTKFacePass)\n",
        "\n",
        "#画像のサイズ\n",
        "input_size = (200, 200, 3)\n",
        "#転移学習モデ(※注意　変更ポイント)\n",
        "Transfer_model = VGG19(include_top=False,                         #結合層はつけない。(自前(Flatten)で用意する。)\n",
        "                          weights='imagenet',                     #imagenetの学習済みパラメータ\n",
        "                          input_tensor=Input(shape = input_size)  #input(画像)のサイズ\n",
        "                         )\n",
        "#model構築\n",
        "model = ML_model(Transfer_model)\n",
        "\n",
        "#学習実行。\n",
        "Train_mae=0\n",
        "Train_mse=0\n",
        "Test_mae=0\n",
        "Test_mse=0\n",
        "\n",
        "#(※注意　変更ポイント)\n",
        "Test_mae, Test_mse, Train_mae_mean, Test_mae_mean = model_fit(\n",
        "                     model,          #学習モデル\n",
        "                     \"VGG19\",        #学習モデルの名前(学習曲線図の題名で使う。)\n",
        "                     100,            #エポック数\n",
        "                     50,             #バッチサイズ\n",
        "                     X_train,        #Trainning Feature(学習用の画像)\n",
        "                     Y_train,        #Trainning Target(学習用の年齢ラベル)\n",
        "                     X_test,         #Test Feature(評価用の画像)\n",
        "                     Y_test,         #Test Target(評価用の年齢ラベル)\n",
        "                     \"mae\",          #学習に用いる損失関数\n",
        "                     \"Adamax\"        #最適化関数(※注意　変更ポイント)\n",
        "                    )  \n",
        "print(\"\\n\")\n",
        "#mae: 年齢予測の誤差\n",
        "#mse: 年齢予測の散らばり具合を表す。maeに近いほど安定した予測を出す。\n",
        "print(\"Test_mae:{0}\".format(Test_mae))\n",
        "print(\"Test_mse:{0}\".format(Test_mse))\n",
        "\n",
        "\n",
        "#TrainDataとTestDataのmae(年齢予測の誤差)の差。\n",
        "#大きすぎると過学習の疑いが強くなる。(40~100epoch)\n",
        "print(\"Test_mae_mean - Train_mae_mean:{0}\".format(Test_mae_mean - Train_mae_mean))"
      ],
      "execution_count": 0,
      "outputs": [
        {
          "output_type": "stream",
          "text": [
            "WARNING:tensorflow:From /usr/local/lib/python3.6/dist-packages/keras/backend/tensorflow_backend.py:66: The name tf.get_default_graph is deprecated. Please use tf.compat.v1.get_default_graph instead.\n",
            "\n",
            "WARNING:tensorflow:From /usr/local/lib/python3.6/dist-packages/keras/backend/tensorflow_backend.py:541: The name tf.placeholder is deprecated. Please use tf.compat.v1.placeholder instead.\n",
            "\n",
            "WARNING:tensorflow:From /usr/local/lib/python3.6/dist-packages/keras/backend/tensorflow_backend.py:4432: The name tf.random_uniform is deprecated. Please use tf.random.uniform instead.\n",
            "\n",
            "WARNING:tensorflow:From /usr/local/lib/python3.6/dist-packages/keras/backend/tensorflow_backend.py:4267: The name tf.nn.max_pool is deprecated. Please use tf.nn.max_pool2d instead.\n",
            "\n",
            "Downloading data from https://github.com/fchollet/deep-learning-models/releases/download/v0.1/vgg19_weights_tf_dim_ordering_tf_kernels_notop.h5\n",
            "80142336/80134624 [==============================] - 1s 0us/step\n",
            "WARNING:tensorflow:From /usr/local/lib/python3.6/dist-packages/keras/backend/tensorflow_backend.py:190: The name tf.get_default_session is deprecated. Please use tf.compat.v1.get_default_session instead.\n",
            "\n",
            "WARNING:tensorflow:From /usr/local/lib/python3.6/dist-packages/keras/backend/tensorflow_backend.py:197: The name tf.ConfigProto is deprecated. Please use tf.compat.v1.ConfigProto instead.\n",
            "\n",
            "WARNING:tensorflow:From /usr/local/lib/python3.6/dist-packages/keras/backend/tensorflow_backend.py:203: The name tf.Session is deprecated. Please use tf.compat.v1.Session instead.\n",
            "\n",
            "WARNING:tensorflow:From /usr/local/lib/python3.6/dist-packages/keras/backend/tensorflow_backend.py:207: The name tf.global_variables is deprecated. Please use tf.compat.v1.global_variables instead.\n",
            "\n",
            "WARNING:tensorflow:From /usr/local/lib/python3.6/dist-packages/keras/backend/tensorflow_backend.py:216: The name tf.is_variable_initialized is deprecated. Please use tf.compat.v1.is_variable_initialized instead.\n",
            "\n",
            "WARNING:tensorflow:From /usr/local/lib/python3.6/dist-packages/keras/backend/tensorflow_backend.py:223: The name tf.variables_initializer is deprecated. Please use tf.compat.v1.variables_initializer instead.\n",
            "\n",
            "WARNING:tensorflow:From /usr/local/lib/python3.6/dist-packages/keras/backend/tensorflow_backend.py:148: The name tf.placeholder_with_default is deprecated. Please use tf.compat.v1.placeholder_with_default instead.\n",
            "\n",
            "WARNING:tensorflow:From /usr/local/lib/python3.6/dist-packages/keras/backend/tensorflow_backend.py:3733: calling dropout (from tensorflow.python.ops.nn_ops) with keep_prob is deprecated and will be removed in a future version.\n",
            "Instructions for updating:\n",
            "Please use `rate` instead of `keep_prob`. Rate should be set to `rate = 1 - keep_prob`.\n",
            "Model: \"model_1\"\n",
            "_________________________________________________________________\n",
            "Layer (type)                 Output Shape              Param #   \n",
            "=================================================================\n",
            "input_1 (InputLayer)         (None, 200, 200, 3)       0         \n",
            "_________________________________________________________________\n",
            "block1_conv1 (Conv2D)        (None, 200, 200, 64)      1792      \n",
            "_________________________________________________________________\n",
            "block1_conv2 (Conv2D)        (None, 200, 200, 64)      36928     \n",
            "_________________________________________________________________\n",
            "block1_pool (MaxPooling2D)   (None, 100, 100, 64)      0         \n",
            "_________________________________________________________________\n",
            "block2_conv1 (Conv2D)        (None, 100, 100, 128)     73856     \n",
            "_________________________________________________________________\n",
            "block2_conv2 (Conv2D)        (None, 100, 100, 128)     147584    \n",
            "_________________________________________________________________\n",
            "block2_pool (MaxPooling2D)   (None, 50, 50, 128)       0         \n",
            "_________________________________________________________________\n",
            "block3_conv1 (Conv2D)        (None, 50, 50, 256)       295168    \n",
            "_________________________________________________________________\n",
            "block3_conv2 (Conv2D)        (None, 50, 50, 256)       590080    \n",
            "_________________________________________________________________\n",
            "block3_conv3 (Conv2D)        (None, 50, 50, 256)       590080    \n",
            "_________________________________________________________________\n",
            "block3_conv4 (Conv2D)        (None, 50, 50, 256)       590080    \n",
            "_________________________________________________________________\n",
            "block3_pool (MaxPooling2D)   (None, 25, 25, 256)       0         \n",
            "_________________________________________________________________\n",
            "block4_conv1 (Conv2D)        (None, 25, 25, 512)       1180160   \n",
            "_________________________________________________________________\n",
            "block4_conv2 (Conv2D)        (None, 25, 25, 512)       2359808   \n",
            "_________________________________________________________________\n",
            "block4_conv3 (Conv2D)        (None, 25, 25, 512)       2359808   \n",
            "_________________________________________________________________\n",
            "block4_conv4 (Conv2D)        (None, 25, 25, 512)       2359808   \n",
            "_________________________________________________________________\n",
            "block4_pool (MaxPooling2D)   (None, 12, 12, 512)       0         \n",
            "_________________________________________________________________\n",
            "block5_conv1 (Conv2D)        (None, 12, 12, 512)       2359808   \n",
            "_________________________________________________________________\n",
            "block5_conv2 (Conv2D)        (None, 12, 12, 512)       2359808   \n",
            "_________________________________________________________________\n",
            "block5_conv3 (Conv2D)        (None, 12, 12, 512)       2359808   \n",
            "_________________________________________________________________\n",
            "block5_conv4 (Conv2D)        (None, 12, 12, 512)       2359808   \n",
            "_________________________________________________________________\n",
            "block5_pool (MaxPooling2D)   (None, 6, 6, 512)         0         \n",
            "_________________________________________________________________\n",
            "sequential_1 (Sequential)    (None, 1)                 4719105   \n",
            "=================================================================\n",
            "Total params: 24,743,489\n",
            "Trainable params: 24,743,489\n",
            "Non-trainable params: 0\n",
            "_________________________________________________________________\n",
            "WARNING:tensorflow:From /usr/local/lib/python3.6/dist-packages/keras/optimizers.py:793: The name tf.train.Optimizer is deprecated. Please use tf.compat.v1.train.Optimizer instead.\n",
            "\n"
          ],
          "name": "stdout"
        },
        {
          "output_type": "stream",
          "text": [
            "/usr/local/lib/python3.6/dist-packages/ipykernel_launcher.py:22: UserWarning: Update your `Model` call to the Keras 2 API: `Model(inputs=Tensor(\"in..., outputs=Tensor(\"se...)`\n"
          ],
          "name": "stderr"
        },
        {
          "output_type": "stream",
          "text": [
            "WARNING:tensorflow:From /usr/local/lib/python3.6/dist-packages/keras/backend/tensorflow_backend.py:1033: The name tf.assign_add is deprecated. Please use tf.compat.v1.assign_add instead.\n",
            "\n",
            "WARNING:tensorflow:From /usr/local/lib/python3.6/dist-packages/keras/backend/tensorflow_backend.py:1020: The name tf.assign is deprecated. Please use tf.compat.v1.assign instead.\n",
            "\n",
            "\n",
            "####################################################################################################\n",
            "\n",
            "Test_mae:8.820592704772949\n",
            "Test_mse:128.36230688476562\n",
            "Test_mae_mean - Train_mae_mean:3.2596647468407953\n",
            "CPU times: user 1h 54min 43s, sys: 52min 49s, total: 2h 47min 33s\n",
            "Wall time: 4h 16min 10s\n"
          ],
          "name": "stdout"
        },
        {
          "output_type": "display_data",
          "data": {
            "image/png": "[encoded data removed]",
            "text/plain": [
              "<Figure size 432x288 with 1 Axes>"
            ]
          },
          "metadata": {
            "tags": []
          }
        }
      ]
    }
  ]
}